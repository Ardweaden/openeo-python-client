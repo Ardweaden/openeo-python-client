{
 "cells": [
  {
   "cell_type": "markdown",
   "metadata": {},
   "source": [
    "# OpenEO Connection to Google Earth Engine"
   ]
  },
  {
   "cell_type": "code",
   "execution_count": 14,
   "metadata": {},
   "outputs": [],
   "source": [
    "import openeo\n",
    "import logging\n",
    "logging.basicConfig(level=logging.INFO)"
   ]
  },
  {
   "cell_type": "code",
   "execution_count": 15,
   "metadata": {},
   "outputs": [],
   "source": [
    "# Define constants\n",
    "\n",
    "# Connection\n",
    "GEE_DRIVER_URL = \"http://127.0.0.1:8080\"\n",
    "OUTPUT_FILE = \"/tmp/openeo_gee_output.png\"\n",
    "OUTFORMAT = \"png\"\n",
    "\n",
    "# Data\n",
    "PRODUCT_ID = \"COPERNICUS/S2\"\n",
    "\n",
    "DATE_START = \"2017-01-01\"\n",
    "DATE_END = \"2017-01-31\"\n",
    "\n",
    "IMAGE_LEFT = 9.0\n",
    "IMAGE_RIGHT = 9.1\n",
    "IMAGE_TOP = 12.1\n",
    "IMAGE_BOTTOM = 12.0\n",
    "IMAGE_SRS = \"EPSG:4326\"\n",
    "\n",
    "# Processes\n",
    "NDVI_RED = \"B4\"\n",
    "NDVI_NIR = \"B8\"\n",
    "\n",
    "STRECH_COLORS_MIN = -1\n",
    "STRECH_COLORS_MAX = 1"
   ]
  },
  {
   "cell_type": "code",
   "execution_count": 17,
   "metadata": {},
   "outputs": [
    {
     "ename": "AttributeError",
     "evalue": "module 'openeo' has no attribute 'openeo'",
     "output_type": "error",
     "traceback": [
      "\u001b[0;31m---------------------------------------------------------------------------\u001b[0m",
      "\u001b[0;31mAttributeError\u001b[0m                            Traceback (most recent call last)",
      "\u001b[0;32m<ipython-input-17-6515beee8e91>\u001b[0m in \u001b[0;36m<module>\u001b[0;34m()\u001b[0m\n\u001b[1;32m      1\u001b[0m \u001b[0;31m# Connect with GEE backend\u001b[0m\u001b[0;34m\u001b[0m\u001b[0;34m\u001b[0m\u001b[0m\n\u001b[0;32m----> 2\u001b[0;31m \u001b[0msession\u001b[0m \u001b[0;34m=\u001b[0m \u001b[0mopeneo\u001b[0m\u001b[0;34m.\u001b[0m\u001b[0mopeneo\u001b[0m\u001b[0;34m(\u001b[0m\u001b[0;34m\"nobody\"\u001b[0m\u001b[0;34m,\u001b[0m \u001b[0mGEE_DRIVER_URL\u001b[0m\u001b[0;34m)\u001b[0m\u001b[0;34m\u001b[0m\u001b[0m\n\u001b[0m\u001b[1;32m      3\u001b[0m \u001b[0msession\u001b[0m\u001b[0;34m\u001b[0m\u001b[0m\n",
      "\u001b[0;31mAttributeError\u001b[0m: module 'openeo' has no attribute 'openeo'"
     ]
    }
   ],
   "source": [
    "# Connect with GEE backend\n",
    "session = openeo.session(\"nobody\", GEE_DRIVER_URL)\n",
    "session"
   ]
  },
  {
   "cell_type": "code",
   "execution_count": null,
   "metadata": {},
   "outputs": [],
   "source": [
    "# Get available processes from the back end.\n",
    "processes = session.get_all_processes()\n",
    "processes"
   ]
  },
  {
   "cell_type": "code",
   "execution_count": null,
   "metadata": {},
   "outputs": [],
   "source": [
    "# Get detailed information about process from the back end.\n",
    "process = session.get_process('NDVI')\n",
    "process"
   ]
  },
  {
   "cell_type": "code",
   "execution_count": null,
   "metadata": {},
   "outputs": [],
   "source": [
    "# Retrieve the list of available collections\n",
    "collections = session.imagecollections()\n",
    "\n",
    "list(collections)[:5]"
   ]
  },
  {
   "cell_type": "code",
   "execution_count": null,
   "metadata": {},
   "outputs": [],
   "source": [
    "# Select collection product\n",
    "coperincus_s2_image = session.image(PRODUCT_ID)\n",
    "\n",
    "coperincus_s2_image"
   ]
  },
  {
   "cell_type": "code",
   "execution_count": null,
   "metadata": {},
   "outputs": [],
   "source": [
    "# Specifying the date range and the bounding box\n",
    "timeseries = coperincus_s2_image.bbox_filter(left=IMAGE_LEFT, right=IMAGE_RIGHT, top=IMAGE_TOP,\n",
    "                                             bottom=IMAGE_BOTTOM, srs=IMAGE_SRS)\n",
    "timeseries = timeseries.date_range_filter(DATE_START, DATE_END)\n",
    "\n",
    "timeseries"
   ]
  },
  {
   "cell_type": "code",
   "execution_count": null,
   "metadata": {},
   "outputs": [],
   "source": [
    "# Applying some operations on the data\n",
    "timeseries = timeseries.ndvi(NDVI_RED, NDVI_NIR)\n",
    "timeseries = timeseries.min_time()\n",
    "timeseries = timeseries.stretch_colors(STRECH_COLORS_MIN, STRECH_COLORS_MAX)\n",
    "\n",
    "timeseries"
   ]
  },
  {
   "cell_type": "code",
   "execution_count": null,
   "metadata": {},
   "outputs": [],
   "source": [
    "# Sending the job to the backend\n",
    "job = timeseries.send_job(out_format=OUTFORMAT)\n",
    "\n",
    "job"
   ]
  },
  {
   "cell_type": "code",
   "execution_count": null,
   "metadata": {},
   "outputs": [],
   "source": [
    "# Download job result\n",
    "job.download(OUTPUT_FILE)\n",
    "\n",
    "job"
   ]
  },
  {
   "cell_type": "code",
   "execution_count": null,
   "metadata": {},
   "outputs": [],
   "source": [
    "# Showing the result\n",
    "from IPython.display import Image\n",
    "result = Image(filename=OUTPUT_FILE)\n",
    "\n",
    "result"
   ]
  },
  {
   "cell_type": "code",
   "execution_count": null,
   "metadata": {},
   "outputs": [],
   "source": []
  }
 ],
 "metadata": {
  "kernelspec": {
   "display_name": "Python 3",
   "language": "python",
   "name": "python3"
  },
  "language_info": {
   "codemirror_mode": {
    "name": "ipython",
    "version": 3
   },
   "file_extension": ".py",
   "mimetype": "text/x-python",
   "name": "python",
   "nbconvert_exporter": "python",
   "pygments_lexer": "ipython3",
   "version": "3.6.4"
  }
 },
 "nbformat": 4,
 "nbformat_minor": 2
}
