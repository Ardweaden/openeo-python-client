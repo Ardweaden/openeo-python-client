{
 "cells": [
  {
   "cell_type": "markdown",
   "metadata": {},
   "source": [
    "# Open-EO Proof Of Concept: Compositing\n",
    "This notebook explains and demonstrates the OpenEO client API, as well as some concepts of the core API."
   ]
  },
  {
   "cell_type": "markdown",
   "metadata": {},
   "source": [
    "The OpenEO API can be accessed with the `openeo` client Python module. The dependencies of this module are limited to a set of well known modules such as numpy and pandas. This should allow it to run in different environments, and as part of larger workflows.\n",
    "\n",
    "Let's get started with importing the module."
   ]
  },
  {
   "cell_type": "code",
   "execution_count": 1,
   "metadata": {
    "pycharm": {
     "is_executing": false
    }
   },
   "outputs": [],
   "source": [
    "import openeo\n",
    "import logging\n",
    "import pathlib\n",
    "%matplotlib inline"
   ]
  },
  {
   "cell_type": "code",
   "execution_count": 2,
   "metadata": {
    "pycharm": {
     "is_executing": false
    }
   },
   "outputs": [],
   "source": [
    "# logging.basicConfig(level=logging.DEBUG)"
   ]
  },
  {
   "cell_type": "markdown",
   "metadata": {},
   "source": [
    "To connect with an OpenEO backend, we create a session. Each OpenEO backend has a different endpoint, metadata and credentials. A session object contains this information, and is the starting point for subsequent calls. "
   ]
  },
  {
   "cell_type": "code",
   "execution_count": 3,
   "metadata": {
    "pycharm": {
     "is_executing": false
    }
   },
   "outputs": [],
   "source": [
    "session = openeo.connect(\"http://openeo.vgt.vito.be/openeo/0.4.0\")"
   ]
  },
  {
   "cell_type": "markdown",
   "metadata": {},
   "source": [
    "## Loading a collection\n",
    "\n",
    "Our first use case is to create a composite image by taking the maximum pixel value over a timeseries of images.\n",
    "To do this, we first need to select input data. Each OpenEO endpoint exposes it's own list of image collections."
   ]
  },
  {
   "cell_type": "code",
   "execution_count": 4,
   "metadata": {
    "scrolled": false,
    "pycharm": {
     "is_executing": false
    }
   },
   "outputs": [
    {
     "data": {
      "text/plain": "['BIOPAR_FAPAR_V1_GLOBAL',\n 'CGLS_FAPAR_V2_GLOBAL',\n 'CGLS_LAI_V2_GLOBAL',\n 'CGLS_LAI300_V1_GLOBAL',\n 'CGLS_NDVI300_V1_GLOBAL',\n 'CGLS_NDVI_V2_GLOBAL',\n 'CGLS_BA300_V1_GLOBAL',\n 'S1_GRD_SIGMA0_ASCENDING',\n 'S1_GRD_SIGMA0_DESCENDING',\n 'CGS_SENTINEL2_RADIOMETRY_V102_001',\n 'S2_FAPAR_V102_WEBMERCATOR2',\n 'SENTINEL2_FCOVER_TERRASCOPE',\n 'SENTINEL2_NDVI_TERRASCOPE',\n 'SENTINEL2_LAI_TERRASCOPE',\n 'PROBAV_L3_S10_TOC_NDVI_333M',\n 'S2_FAPAR_SCENECLASSIFICATION_V102_PYRAMID',\n 'S2_NDVI_S3',\n 'CGS_SENTINEL2_RADIOMETRY_V102_FILE',\n 'SENTINEL1_GAMMA0_SENTINELHUB',\n 'SENTINEL2_L1C_SENTINELHUB',\n 'SENTINEL2_L2A_SENTINELHUB',\n 'LANDSAT8_L1C_SENTINELHUB',\n 'S2_RADIOMETRY_S3_JP2']"
     },
     "metadata": {},
     "output_type": "execute_result",
     "execution_count": 4
    }
   ],
   "source": [
    "session.list_collection_ids()"
   ]
  },
  {
   "cell_type": "markdown",
   "metadata": {},
   "source": [
    "Let's take Sentinel-2 radiometry data."
   ]
  },
  {
   "cell_type": "code",
   "execution_count": 5,
   "metadata": {
    "pycharm": {
     "is_executing": false
    }
   },
   "outputs": [
    {
     "data": {
      "text/plain": "{'bands': [{'band_id': '2',\n   'name': 'blue',\n   'offset': 0,\n   'res_m': 10,\n   'scale': 0.0001,\n   'type': 'int16',\n   'unit': '1',\n   'wavelength_nm': 496.6},\n  {'band_id': '3',\n   'name': 'green',\n   'offset': 0,\n   'res_m': 10,\n   'scale': 0.0001,\n   'type': 'int16',\n   'unit': '1',\n   'wavelength_nm': 560},\n  {'band_id': '4',\n   'name': 'red',\n   'offset': 0,\n   'res_m': 10,\n   'scale': 0.0001,\n   'type': 'int16',\n   'unit': '1',\n   'wavelength_nm': 664.5},\n  {'band_id': '8',\n   'name': 'nir',\n   'offset': 0,\n   'res_m': 10,\n   'scale': 0.0001,\n   'type': 'int16',\n   'unit': '1',\n   'wavelength_nm': 835.1}],\n 'description': 'Sentinel 2 Level-2: Bottom-of-atmosphere reflectances in cartographic geometry, provided by Terrascope.',\n 'extent': {'crs': 'EPSG:3857',\n  'spatial': [180, -56, -180, 83],\n  'temporal': ['2015-07-06', None]},\n 'id': 'CGS_SENTINEL2_RADIOMETRY_V102_001',\n 'license': 'free',\n 'links': [{'href': 'https://terrascope.be/en/products',\n   'rel': 'alternate',\n   'title': 'Product web page.'}],\n 'name': 'CGS_SENTINEL2_RADIOMETRY_V102_001',\n 'other_properties': {},\n 'product_id': 'CGS_SENTINEL2_RADIOMETRY_V102_001',\n 'properties': {'cube:dimensions': {'bands': {'type': 'bands',\n    'values': ['2', '3', '4', '8']}},\n  'eo:bands': [{'center_wavelength': 0.4966,\n    'common_name': 'blue',\n    'name': '2'},\n   {'center_wavelength': 0.56, 'common_name': 'green', 'name': '3'},\n   {'center_wavelength': 0.6645, 'common_name': 'red', 'name': '4'},\n   {'center_wavelength': 0.8351, 'common_name': 'nir', 'name': '8'}]},\n 'providers': [{'name': 'Terrascope/VITO'}],\n 'stac_version': '0.7.0',\n 'title': 'Sentinel 2 Bottom-of-atmosphere reflectances.'}"
     },
     "metadata": {},
     "output_type": "execute_result",
     "execution_count": 5
    }
   ],
   "source": [
    "collection_id = \"CGS_SENTINEL2_RADIOMETRY_V102_001\"\n",
    "session.describe_collection(collection_id)"
   ]
  },
  {
   "cell_type": "markdown",
   "metadata": {},
   "source": [
    "In the client code we create a so called image collection, which is a thin reference to this data and allows to build on that with further operations."
   ]
  },
  {
   "cell_type": "code",
   "execution_count": 6,
   "metadata": {
    "pycharm": {
     "is_executing": false
    }
   },
   "outputs": [
    {
     "data": {
      "text/plain": "<openeo.rest.imagecollectionclient.ImageCollectionClient at 0x7f3fa89b09d0>"
     },
     "metadata": {},
     "output_type": "execute_result",
     "execution_count": 6
    }
   ],
   "source": [
    "s2_radiometry = session.imagecollection(collection_id)\n",
    "s2_radiometry"
   ]
  },
  {
   "cell_type": "markdown",
   "metadata": {},
   "source": [
    "As the data covered by the image collection can be quite large, a first step is usually to define a spatial and temporal subset on which we want to operate. This can be done by specifying a date range and a bounding box:"
   ]
  },
  {
   "cell_type": "code",
   "execution_count": 7,
   "metadata": {
    "pycharm": {
     "is_executing": false
    }
   },
   "outputs": [
    {
     "data": {
      "text/plain": "<openeo.rest.imagecollectionclient.ImageCollectionClient at 0x7f3fa89e7ac0>"
     },
     "metadata": {},
     "output_type": "execute_result",
     "execution_count": 7
    }
   ],
   "source": [
    "timeseries = s2_radiometry\\\n",
    ".filter_temporal(\"2017-10-01\",\"2017-10-31\")\\\n",
    ".filter_bbox(west=761104,east=763281,south=6543830,north=6544655,crs=\"EPSG:3857\")\n",
    "timeseries"
   ]
  },
  {
   "cell_type": "markdown",
   "metadata": {},
   "source": [
    "## Calculating NDVI\n",
    "\n",
    "We can calculate the NDVI based on the bands of the data using standard mathematical operators."
   ]
  },
  {
   "cell_type": "code",
   "execution_count": 8,
   "metadata": {
    "pycharm": {
     "is_executing": false
    }
   },
   "outputs": [
    {
     "data": {
      "text/plain": "<openeo.rest.imagecollectionclient.ImageCollectionClient at 0x7f3fa89cda60>"
     },
     "metadata": {},
     "output_type": "execute_result",
     "execution_count": 8
    }
   ],
   "source": [
    "band_red = timeseries.band('2')\n",
    "band_nir = timeseries.band('3')\n",
    "ndvi_timeseries = (band_nir - band_red) / (band_nir + band_red)\n",
    "ndvi_timeseries"
   ]
  },
  {
   "cell_type": "markdown",
   "metadata": {},
   "source": [
    "Now we're all set to compute the composite, the `max_time` function allows us to specify the function that needs to be applied, but does not yet compute a result:"
   ]
  },
  {
   "cell_type": "code",
   "execution_count": 9,
   "metadata": {
    "pycharm": {
     "is_executing": false
    }
   },
   "outputs": [
    {
     "data": {
      "text/plain": "<openeo.rest.imagecollectionclient.ImageCollectionClient at 0x7f3fa89e7f10>"
     },
     "metadata": {},
     "output_type": "execute_result",
     "execution_count": 9
    }
   ],
   "source": [
    "composite = ndvi_timeseries.max_time()\n",
    "composite"
   ]
  },
  {
   "cell_type": "markdown",
   "metadata": {},
   "source": [
    "Up to this point, the OpenEO backend has not yet received a request for an actual computation. At the client side, we have only been building what is called a 'process graph' in OpenEO terms, which just describes the operations we want to execute"
   ]
  },
  {
   "cell_type": "code",
   "execution_count": 10,
   "metadata": {
    "pycharm": {
     "is_executing": false
    }
   },
   "outputs": [
    {
     "data": {
      "text/plain": "<graphviz.dot.Digraph at 0x7f3fa8dde460>",
      "image/svg+xml": "<?xml version=\"1.0\" encoding=\"UTF-8\" standalone=\"no\"?>\n<!DOCTYPE svg PUBLIC \"-//W3C//DTD SVG 1.1//EN\"\n \"http://www.w3.org/Graphics/SVG/1.1/DTD/svg11.dtd\">\n<!-- Generated by graphviz version 2.42.3 (0)\n -->\n<!-- Title: %3 Pages: 1 -->\n<svg width=\"634pt\" height=\"768pt\"\n viewBox=\"0.00 0.00 634.00 768.00\" xmlns=\"http://www.w3.org/2000/svg\" xmlns:xlink=\"http://www.w3.org/1999/xlink\">\n<g id=\"graph0\" class=\"graph\" transform=\"scale(1 1) rotate(0) translate(4 764)\">\n<title>%3</title>\n<polygon fill=\"white\" stroke=\"transparent\" points=\"-4,4 -4,-764 630,-764 630,4 -4,4\"/>\n<!-- loadcollection1 -->\n<g id=\"node1\" class=\"node\">\n<title>loadcollection1</title>\n<polygon fill=\"#eeeeee\" stroke=\"transparent\" points=\"143,-738 143,-756 483,-756 483,-738 143,-738\"/>\n<polygon fill=\"none\" stroke=\"black\" points=\"143,-738 143,-756 483,-756 483,-738 143,-738\"/>\n<text text-anchor=\"start\" x=\"272\" y=\"-744.2\" font-family=\"sans\" font-size=\"11.00\">load_collection</text>\n<polygon fill=\"none\" stroke=\"black\" points=\"143,-720 143,-738 240,-738 240,-720 143,-720\"/>\n<text text-anchor=\"start\" x=\"227\" y=\"-726.2\" font-family=\"sans\" font-size=\"11.00\">id</text>\n<polygon fill=\"none\" stroke=\"black\" points=\"240,-720 240,-738 483,-738 483,-720 240,-720\"/>\n<text text-anchor=\"start\" x=\"243\" y=\"-726.2\" font-family=\"monospace\" font-size=\"11.00\">&#39;CGS_SENTINEL2_RADIOMETRY_V102_001&#39;</text>\n<polygon fill=\"none\" stroke=\"black\" points=\"143,-702 143,-720 240,-720 240,-702 143,-702\"/>\n<text text-anchor=\"start\" x=\"158\" y=\"-708.2\" font-family=\"sans\" font-size=\"11.00\">spatial_extent</text>\n<polygon fill=\"none\" stroke=\"black\" points=\"240,-702 240,-720 483,-720 483,-702 240,-702\"/>\n<text text-anchor=\"start\" x=\"243\" y=\"-708.2\" font-family=\"monospace\" font-size=\"11.00\">None</text>\n<polygon fill=\"none\" stroke=\"black\" points=\"143,-684 143,-702 240,-702 240,-684 143,-684\"/>\n<text text-anchor=\"start\" x=\"146\" y=\"-690.2\" font-family=\"sans\" font-size=\"11.00\">temporal_extent</text>\n<polygon fill=\"none\" stroke=\"black\" points=\"240,-684 240,-702 483,-702 483,-684 240,-684\"/>\n<text text-anchor=\"start\" x=\"243\" y=\"-690.2\" font-family=\"monospace\" font-size=\"11.00\">None</text>\n</g>\n<!-- filtertemporal1 -->\n<g id=\"node2\" class=\"node\">\n<title>filtertemporal1</title>\n<polygon fill=\"#eeeeee\" stroke=\"transparent\" points=\"180,-622 180,-640 446,-640 446,-622 180,-622\"/>\n<polygon fill=\"none\" stroke=\"black\" points=\"180,-622 180,-640 446,-640 446,-622 180,-622\"/>\n<text text-anchor=\"start\" x=\"272.5\" y=\"-628.2\" font-family=\"sans\" font-size=\"11.00\">filter_temporal</text>\n<polygon fill=\"none\" stroke=\"black\" points=\"180,-604 180,-622 223,-622 223,-604 180,-604\"/>\n<text text-anchor=\"start\" x=\"195\" y=\"-610.2\" font-family=\"sans\" font-size=\"11.00\">data</text>\n<polygon fill=\"none\" stroke=\"black\" points=\"223,-604 223,-622 446,-622 446,-604 223,-604\"/>\n<text text-anchor=\"start\" x=\"226\" y=\"-610.2\" font-family=\"monospace\" font-size=\"11.00\">{&#39;from_node&#39;: &#39;loadcollection1&#39;}</text>\n<polygon fill=\"none\" stroke=\"black\" points=\"180,-586 180,-604 223,-604 223,-586 180,-586\"/>\n<text text-anchor=\"start\" x=\"183\" y=\"-592.2\" font-family=\"sans\" font-size=\"11.00\">extent</text>\n<polygon fill=\"none\" stroke=\"black\" points=\"223,-586 223,-604 446,-604 446,-586 223,-586\"/>\n<text text-anchor=\"start\" x=\"226\" y=\"-592.2\" font-family=\"monospace\" font-size=\"11.00\">[&#39;2017&#45;10&#45;01&#39;, &#39;2017&#45;10&#45;31&#39;]</text>\n</g>\n<!-- loadcollection1&#45;&gt;filtertemporal1 -->\n<g id=\"edge1\" class=\"edge\">\n<title>loadcollection1&#45;&gt;filtertemporal1</title>\n<path fill=\"none\" stroke=\"black\" d=\"M313,-679.9C313,-671.62 313,-662.86 313,-654.53\"/>\n<polygon fill=\"black\" stroke=\"black\" points=\"316.5,-654.27 313,-644.27 309.5,-654.27 316.5,-654.27\"/>\n</g>\n<!-- filterbbox1 -->\n<g id=\"node3\" class=\"node\">\n<title>filterbbox1</title>\n<polygon fill=\"#eeeeee\" stroke=\"transparent\" points=\"180,-524 180,-542 446,-542 446,-524 180,-524\"/>\n<polygon fill=\"none\" stroke=\"black\" points=\"180,-524 180,-542 446,-542 446,-524 180,-524\"/>\n<text text-anchor=\"start\" x=\"284\" y=\"-530.2\" font-family=\"sans\" font-size=\"11.00\">filter_bbox</text>\n<polygon fill=\"none\" stroke=\"black\" points=\"180,-506 180,-524 223,-524 223,-506 180,-506\"/>\n<text text-anchor=\"start\" x=\"195\" y=\"-512.2\" font-family=\"sans\" font-size=\"11.00\">data</text>\n<polygon fill=\"none\" stroke=\"black\" points=\"223,-506 223,-524 446,-524 446,-506 223,-506\"/>\n<text text-anchor=\"start\" x=\"226\" y=\"-512.2\" font-family=\"monospace\" font-size=\"11.00\">{&#39;from_node&#39;: &#39;filtertemporal1&#39;}</text>\n<polygon fill=\"none\" stroke=\"black\" points=\"180,-440 180,-506 223,-506 223,-440 180,-440\"/>\n<text text-anchor=\"start\" x=\"183\" y=\"-470.2\" font-family=\"sans\" font-size=\"11.00\">extent</text>\n<polygon fill=\"none\" stroke=\"black\" points=\"223,-440 223,-506 446,-506 446,-440 223,-440\"/>\n<text text-anchor=\"start\" x=\"226\" y=\"-494.2\" font-family=\"monospace\" font-size=\"11.00\">{&#39;crs&#39;: &#39;EPSG:3857&#39;,</text>\n<text text-anchor=\"start\" x=\"239.5\" y=\"-482.2\" font-family=\"monospace\" font-size=\"11.00\"> &#39;east&#39;: 763281,</text>\n<text text-anchor=\"start\" x=\"233\" y=\"-470.2\" font-family=\"monospace\" font-size=\"11.00\"> &#39;north&#39;: 6544655,</text>\n<text text-anchor=\"start\" x=\"233\" y=\"-458.2\" font-family=\"monospace\" font-size=\"11.00\"> &#39;south&#39;: 6543830,</text>\n<text text-anchor=\"start\" x=\"239.5\" y=\"-446.2\" font-family=\"monospace\" font-size=\"11.00\"> &#39;west&#39;: 761104}</text>\n</g>\n<!-- filtertemporal1&#45;&gt;filterbbox1 -->\n<g id=\"edge2\" class=\"edge\">\n<title>filtertemporal1&#45;&gt;filterbbox1</title>\n<path fill=\"none\" stroke=\"black\" d=\"M313,-581.72C313,-573.85 313,-565.07 313,-556.16\"/>\n<polygon fill=\"black\" stroke=\"black\" points=\"316.5,-556.1 313,-546.1 309.5,-556.1 316.5,-556.1\"/>\n</g>\n<!-- reduce2 -->\n<g id=\"node4\" class=\"node\">\n<title>reduce2</title>\n<polygon fill=\"#eeeeee\" stroke=\"transparent\" points=\"8,-378 8,-396 618,-396 618,-378 8,-378\"/>\n<polygon fill=\"none\" stroke=\"black\" points=\"8,-378 8,-396 618,-396 618,-378 8,-378\"/>\n<text text-anchor=\"start\" x=\"294\" y=\"-384.2\" font-family=\"sans\" font-size=\"11.00\">reduce</text>\n<polygon fill=\"none\" stroke=\"black\" points=\"8,-360 8,-378 71,-378 71,-360 8,-360\"/>\n<text text-anchor=\"start\" x=\"43\" y=\"-366.2\" font-family=\"sans\" font-size=\"11.00\">data</text>\n<polygon fill=\"none\" stroke=\"black\" points=\"71,-360 71,-378 618,-378 618,-360 71,-360\"/>\n<text text-anchor=\"start\" x=\"74\" y=\"-366.2\" font-family=\"monospace\" font-size=\"11.00\">{&#39;from_node&#39;: &#39;filterbbox1&#39;}</text>\n<polygon fill=\"none\" stroke=\"black\" points=\"8,-342 8,-360 71,-360 71,-342 8,-342\"/>\n<text text-anchor=\"start\" x=\"11\" y=\"-348.2\" font-family=\"sans\" font-size=\"11.00\">dimension</text>\n<polygon fill=\"none\" stroke=\"black\" points=\"71,-342 71,-360 618,-360 618,-342 71,-342\"/>\n<text text-anchor=\"start\" x=\"74\" y=\"-348.2\" font-family=\"monospace\" font-size=\"11.00\">&#39;spectral_bands&#39;</text>\n<polygon fill=\"none\" stroke=\"black\" points=\"8,-144 8,-342 71,-342 71,-144 8,-144\"/>\n<text text-anchor=\"start\" x=\"25\" y=\"-240.2\" font-family=\"sans\" font-size=\"11.00\">reducer</text>\n<polygon fill=\"none\" stroke=\"black\" points=\"71,-144 71,-342 618,-342 618,-144 71,-144\"/>\n<text text-anchor=\"start\" x=\"74\" y=\"-330.2\" font-family=\"monospace\" font-size=\"11.00\">{&#39;callback&#39;: {&#39;arrayelement5&#39;: {&#39;arguments&#39;: {&#39;data&#39;: {&#39;from_argument&#39;: &#39;data&#39;},</text>\n<text text-anchor=\"start\" x=\"148.5\" y=\"-318.2\" font-family=\"monospace\" font-size=\"11.00\"> &#160;&#160;&#160;&#160;&#160;&#160;&#160;&#160;&#160;&#160;&#160;&#160;&#160;&#160;&#160;&#160;&#160;&#160;&#160;&#160;&#160;&#160;&#160;&#160;&#160;&#160;&#160;&#160;&#160;&#160;&#160;&#160;&#160;&#160;&#160;&#160;&#160;&#160;&#160;&#160;&#160;&#160;&#160;&#160;&#160;&#39;index&#39;: 1},</text>\n<text text-anchor=\"start\" x=\"135\" y=\"-306.2\" font-family=\"monospace\" font-size=\"11.00\"> &#160;&#160;&#160;&#160;&#160;&#160;&#160;&#160;&#160;&#160;&#160;&#160;&#160;&#160;&#160;&#160;&#160;&#160;&#160;&#160;&#160;&#160;&#160;&#160;&#160;&#160;&#160;&#160;&#160;&#160;&#160;&#39;process_id&#39;: &#39;array_element&#39;,</text>\n<text text-anchor=\"start\" x=\"179\" y=\"-294.2\" font-family=\"monospace\" font-size=\"11.00\"> &#160;&#160;&#160;&#160;&#160;&#160;&#160;&#160;&#160;&#160;&#160;&#160;&#160;&#160;&#160;&#160;&#160;&#160;&#160;&#160;&#160;&#160;&#160;&#160;&#160;&#160;&#160;&#160;&#160;&#160;&#160;&#39;result&#39;: False},</text>\n<text text-anchor=\"start\" x=\"74\" y=\"-282.2\" font-family=\"monospace\" font-size=\"11.00\"> &#160;&#160;&#160;&#160;&#160;&#160;&#160;&#160;&#160;&#160;&#160;&#160;&#160;&#39;arrayelement6&#39;: {&#39;arguments&#39;: {&#39;data&#39;: {&#39;from_argument&#39;: &#39;data&#39;},</text>\n<text text-anchor=\"start\" x=\"148.5\" y=\"-270.2\" font-family=\"monospace\" font-size=\"11.00\"> &#160;&#160;&#160;&#160;&#160;&#160;&#160;&#160;&#160;&#160;&#160;&#160;&#160;&#160;&#160;&#160;&#160;&#160;&#160;&#160;&#160;&#160;&#160;&#160;&#160;&#160;&#160;&#160;&#160;&#160;&#160;&#160;&#160;&#160;&#160;&#160;&#160;&#160;&#160;&#160;&#160;&#160;&#160;&#160;&#160;&#39;index&#39;: 0},</text>\n<text text-anchor=\"start\" x=\"135\" y=\"-258.2\" font-family=\"monospace\" font-size=\"11.00\"> &#160;&#160;&#160;&#160;&#160;&#160;&#160;&#160;&#160;&#160;&#160;&#160;&#160;&#160;&#160;&#160;&#160;&#160;&#160;&#160;&#160;&#160;&#160;&#160;&#160;&#160;&#160;&#160;&#160;&#160;&#160;&#39;process_id&#39;: &#39;array_element&#39;,</text>\n<text text-anchor=\"start\" x=\"179\" y=\"-246.2\" font-family=\"monospace\" font-size=\"11.00\"> &#160;&#160;&#160;&#160;&#160;&#160;&#160;&#160;&#160;&#160;&#160;&#160;&#160;&#160;&#160;&#160;&#160;&#160;&#160;&#160;&#160;&#160;&#160;&#160;&#160;&#160;&#160;&#160;&#160;&#160;&#160;&#39;result&#39;: False},</text>\n<text text-anchor=\"start\" x=\"74\" y=\"-234.2\" font-family=\"monospace\" font-size=\"11.00\"> &#160;&#160;&#160;&#160;&#160;&#160;&#160;&#160;&#160;&#160;&#160;&#160;&#160;&#39;arrayelement7&#39;: {&#39;arguments&#39;: {&#39;data&#39;: {&#39;from_argument&#39;: &#39;data&#39;},</text>\n<text text-anchor=\"start\" x=\"148.5\" y=\"-222.2\" font-family=\"monospace\" font-size=\"11.00\"> &#160;&#160;&#160;&#160;&#160;&#160;&#160;&#160;&#160;&#160;&#160;&#160;&#160;&#160;&#160;&#160;&#160;&#160;&#160;&#160;&#160;&#160;&#160;&#160;&#160;&#160;&#160;&#160;&#160;&#160;&#160;&#160;&#160;&#160;&#160;&#160;&#160;&#160;&#160;&#160;&#160;&#160;&#160;&#160;&#160;&#39;index&#39;: 1},</text>\n<text text-anchor=\"start\" x=\"135\" y=\"-210.2\" font-family=\"monospace\" font-size=\"11.00\"> &#160;&#160;&#160;&#160;&#160;&#160;&#160;&#160;&#160;&#160;&#160;&#160;&#160;&#160;&#160;&#160;&#160;&#160;&#160;&#160;&#160;&#160;&#160;&#160;&#160;&#160;&#160;&#160;&#160;&#160;&#160;&#39;process_id&#39;: &#39;array_element&#39;,</text>\n<text text-anchor=\"start\" x=\"179\" y=\"-198.2\" font-family=\"monospace\" font-size=\"11.00\"> &#160;&#160;&#160;&#160;&#160;&#160;&#160;&#160;&#160;&#160;&#160;&#160;&#160;&#160;&#160;&#160;&#160;&#160;&#160;&#160;&#160;&#160;&#160;&#160;&#160;&#160;&#160;&#160;&#160;&#160;&#160;&#39;result&#39;: False},</text>\n<text text-anchor=\"start\" x=\"74\" y=\"-186.2\" font-family=\"monospace\" font-size=\"11.00\"> &#160;&#160;&#160;&#160;&#160;&#160;&#160;&#160;&#160;&#160;&#160;&#160;&#160;&#39;arrayelement8&#39;: {&#39;arguments&#39;: {&#39;data&#39;: {&#39;from_argument&#39;: &#39;data&#39;},</text>\n<text text-anchor=\"start\" x=\"148.5\" y=\"-174.2\" font-family=\"monospace\" font-size=\"11.00\"> &#160;&#160;&#160;&#160;&#160;&#160;&#160;&#160;&#160;&#160;&#160;&#160;&#160;&#160;&#160;&#160;&#160;&#160;&#160;&#160;&#160;&#160;&#160;&#160;&#160;&#160;&#160;&#160;&#160;&#160;&#160;&#160;&#160;&#160;&#160;&#160;&#160;&#160;&#160;&#160;&#160;&#160;&#160;&#160;&#160;&#39;index&#39;: 0},</text>\n<text text-anchor=\"start\" x=\"135\" y=\"-162.2\" font-family=\"monospace\" font-size=\"11.00\"> &#160;&#160;&#160;&#160;&#160;&#160;&#160;&#160;&#160;&#160;&#160;&#160;&#160;&#160;&#160;&#160;&#160;&#160;&#160;&#160;&#160;&#160;&#160;&#160;&#160;&#160;&#160;&#160;&#160;&#160;&#160;&#39;process_id&#39;: &#39;array_element&#39;,</text>\n<text text-anchor=\"start\" x=\"216\" y=\"-150.2\" font-family=\"monospace\" font-size=\"11.00\"> &#160;&#160;&#160;&#160;&#160;&#160;&#160;&#160;&#160;&#160;&#160;&#160;&#160;&#160;&#160;&#160;&#160;&#160;&#160;&#160;&#160;&#160;&#160;&#160;&#160;&#160;&#160;&#160;&#160;&#160;&#160;&#39;resul</text>\n</g>\n<!-- filterbbox1&#45;&gt;reduce2 -->\n<g id=\"edge3\" class=\"edge\">\n<title>filterbbox1&#45;&gt;reduce2</title>\n<path fill=\"none\" stroke=\"black\" d=\"M313,-435.87C313,-427.86 313,-419.32 313,-410.49\"/>\n<polygon fill=\"black\" stroke=\"black\" points=\"316.5,-410.42 313,-400.42 309.5,-410.42 316.5,-410.42\"/>\n</g>\n<!-- reduce3 -->\n<g id=\"node5\" class=\"node\">\n<title>reduce3</title>\n<polygon fill=\"#eeeeee\" stroke=\"transparent\" points=\"42,-82 42,-100 584,-100 584,-82 42,-82\"/>\n<polygon fill=\"none\" stroke=\"black\" points=\"42,-82 42,-100 584,-100 584,-82 42,-82\"/>\n<text text-anchor=\"start\" x=\"294\" y=\"-88.2\" font-family=\"sans\" font-size=\"11.00\">reduce</text>\n<polygon fill=\"none\" stroke=\"black\" points=\"42,-64 42,-82 105,-82 105,-64 42,-64\"/>\n<text text-anchor=\"start\" x=\"77\" y=\"-70.2\" font-family=\"sans\" font-size=\"11.00\">data</text>\n<polygon fill=\"none\" stroke=\"black\" points=\"105,-64 105,-82 584,-82 584,-64 105,-64\"/>\n<text text-anchor=\"start\" x=\"108\" y=\"-70.2\" font-family=\"monospace\" font-size=\"11.00\">{&#39;from_node&#39;: &#39;reduce2&#39;}</text>\n<polygon fill=\"none\" stroke=\"black\" points=\"42,-46 42,-64 105,-64 105,-46 42,-46\"/>\n<text text-anchor=\"start\" x=\"45\" y=\"-52.2\" font-family=\"sans\" font-size=\"11.00\">dimension</text>\n<polygon fill=\"none\" stroke=\"black\" points=\"105,-46 105,-64 584,-64 584,-46 105,-46\"/>\n<text text-anchor=\"start\" x=\"108\" y=\"-52.2\" font-family=\"monospace\" font-size=\"11.00\">&#39;temporal&#39;</text>\n<polygon fill=\"none\" stroke=\"black\" points=\"42,-4 42,-46 105,-46 105,-4 42,-4\"/>\n<text text-anchor=\"start\" x=\"59\" y=\"-22.2\" font-family=\"sans\" font-size=\"11.00\">reducer</text>\n<polygon fill=\"none\" stroke=\"black\" points=\"105,-4 105,-46 584,-46 584,-4 105,-4\"/>\n<text text-anchor=\"start\" x=\"108\" y=\"-34.2\" font-family=\"monospace\" font-size=\"11.00\">{&#39;callback&#39;: {&#39;r1&#39;: {&#39;arguments&#39;: {&#39;data&#39;: {&#39;from_argument&#39;: &#39;data&#39;}},</text>\n<text text-anchor=\"start\" x=\"206\" y=\"-22.2\" font-family=\"monospace\" font-size=\"11.00\"> &#160;&#160;&#160;&#160;&#160;&#160;&#160;&#160;&#160;&#160;&#160;&#160;&#160;&#160;&#160;&#160;&#160;&#160;&#160;&#160;&#39;process_id&#39;: &#39;max&#39;,</text>\n<text text-anchor=\"start\" x=\"216\" y=\"-10.2\" font-family=\"monospace\" font-size=\"11.00\"> &#160;&#160;&#160;&#160;&#160;&#160;&#160;&#160;&#160;&#160;&#160;&#160;&#160;&#160;&#160;&#160;&#160;&#160;&#160;&#160;&#39;result&#39;: True}}}</text>\n</g>\n<!-- reduce2&#45;&gt;reduce3 -->\n<g id=\"edge4\" class=\"edge\">\n<title>reduce2&#45;&gt;reduce3</title>\n<path fill=\"none\" stroke=\"black\" d=\"M313,-139.92C313,-131.05 313,-122.38 313,-114.16\"/>\n<polygon fill=\"black\" stroke=\"black\" points=\"316.5,-114 313,-104 309.5,-114 316.5,-114\"/>\n</g>\n</g>\n</svg>\n"
     },
     "metadata": {},
     "output_type": "execute_result",
     "execution_count": 10
    }
   ],
   "source": [
    "composite.to_graphviz()"
   ]
  },
  {
   "cell_type": "markdown",
   "metadata": {},
   "source": [
    "We can do a few things with a process graph, let's start with downloading its result as a GeoTiff:"
   ]
  },
  {
   "cell_type": "code",
   "execution_count": 11,
   "metadata": {
    "pycharm": {
     "is_executing": false
    }
   },
   "outputs": [
    {
     "name": "stdout",
     "text": [
      "Downloaded: Compositing.output/ndvi.geotiff (25553 bytes)\nCPU times: user 15 ms, sys: 139 µs, total: 15.1 ms\nWall time: 8.22 s\n"
     ],
     "output_type": "stream"
    }
   ],
   "source": [
    "%%time\n",
    "output_dir = pathlib.Path('Compositing.output')\n",
    "if not output_dir.exists():\n",
    "    output_dir.mkdir()\n",
    "output_file = output_dir / \"ndvi.geotiff\"\n",
    "\n",
    "composite.download(str(output_file), format=\"GTiff\")\n",
    "\n",
    "print(\"Downloaded: {f} ({b} bytes)\".format(f=output_file, b=output_file.stat().st_size))"
   ]
  },
  {
   "cell_type": "markdown",
   "metadata": {},
   "source": [
    "This particular composite took tens of seconds to compute over a couple of months worth of input data. This shows one of the key points of OpenEO: the algorithm gets distributed over processing resources close to the data, which can greatly speed up processing.\n",
    "\n",
    "Now it's time to inspect our result. One way is to use gdalinfo:"
   ]
  },
  {
   "cell_type": "code",
   "execution_count": 12,
   "metadata": {
    "pycharm": {
     "is_executing": false
    }
   },
   "outputs": [
    {
     "name": "stdout",
     "text": [
      "Driver: GTiff/GeoTIFF\r\nFiles: Compositing.output/ndvi.geotiff\r\n       Compositing.output/ndvi.geotiff.aux.xml\r\nSize is 228, 88\r\n",
      "Coordinate System is:\r\nPROJCRS[\"WGS 84 / Pseudo-Mercator\",\r\n    BASEGEOGCRS[\"WGS 84\",\r\n        DATUM[\"World Geodetic System 1984\",\r\n            ELLIPSOID[\"WGS 84\",6378137,298.257223563,\r\n                LENGTHUNIT[\"metre\",1]]],\r\n        PRIMEM[\"Greenwich\",0,\r\n            ANGLEUNIT[\"degree\",0.0174532925199433]],\r\n        ID[\"EPSG\",4326]],\r\n    CONVERSION[\"Popular Visualisation Pseudo-Mercator\",\r\n        METHOD[\"Popular Visualisation Pseudo Mercator\",\r\n            ID[\"EPSG\",1024]],\r\n        PARAMETER[\"Latitude of natural origin\",0,\r\n            ANGLEUNIT[\"degree\",0.0174532925199433],\r\n            ID[\"EPSG\",8801]],\r\n        PARAMETER[\"Longitude of natural origin\",0,\r\n            ANGLEUNIT[\"degree\",0.0174532925199433],\r\n            ID[\"EPSG\",8802]],\r\n        PARAMETER[\"False easting\",0,\r\n            LENGTHUNIT[\"metre\",1],\r\n            ID[\"EPSG\",8806]],\r\n        PARAMETER[\"False northing\",0,\r\n            LENGTHUNIT[\"metre\",1],\r\n            ID[\"EPSG\",8807]]],\r\n    CS[Cartesian,2],\r\n        AXIS[\"easting (X)\",east,\r\n            ORDER[1],\r\n            LENGTHUNIT[\"metre\",1]],\r\n        AXIS[\"northing (Y)\",north,\r\n            ORDER[2],\r\n            LENGTHUNIT[\"metre\",1]],\r\n    USAGE[\r\n        SCOPE[\"unknown\"],\r\n        AREA[\"World - 85°S to 85°N\"],\r\n        BBOX[-85.06,-180,85.06,180]],\r\n    ID[\"EPSG\",3857]]\r\nData axis to CRS axis mapping: 1,2\r\nOrigin = (761102.599892572732642,6544662.571947754360735)\r\nPixel Size = (9.554628535647154,-9.554628535650078)\r\nMetadata:\r\n  AREA_OR_POINT=Area\r\nImage Structure Metadata:\r\n  COMPRESSION=DEFLATE\r\n  INTERLEAVE=BAND\r\nCorner Coordinates:\r\nUpper Left  (  761102.600, 6544662.572) (  6d50'13.56\"E, 50d33'53.13\"N)\r\nLower Left  (  761102.600, 6543821.765) (  6d50'13.56\"E, 50d33'35.86\"N)\r\nUpper Right (  763281.055, 6544662.572) (  6d51'24.01\"E, 50d33'53.13\"N)\r\nLower Right (  763281.055, 6543821.765) (  6d51'24.01\"E, 50d33'35.86\"N)\r\nCenter      (  762191.828, 6544242.168) (  6d50'48.79\"E, 50d33'44.49\"N)\r\nBand 1 Block=256x256 Type=Float32, ColorInterp=Gray\r\n  Min=0.219 Max=21.000 \r\n  Minimum=0.219, Maximum=21.000, Mean=0.572, StdDev=0.317\r\n  256 buckets from 0.178523 to 21.0407:\r\n  8 180 1060 3907 7311 4951 1692 577 209 72 31 14 23 2 0 4 4 0 0 4 0 0 0 4 0 0 2 2 2 0 0 0 0 0 0 0 0 0 0 0 0 0 0 0 0 0 0 0 0 0 0 0 0 0 0 0 0 0 0 0 0 0 0 0 0 0 0 0 0 0 0 0 0 0 0 0 0 0 0 0 0 0 0 0 0 0 0 0 0 0 0 0 0 0 0 0 0 0 0 0 0 0 0 0 0 0 0 0 0 0 0 0 0 0 0 0 0 0 1 0 0 0 0 0 0 0 0 0 0 0 0 0 0 0 0 0 0 0 0 0 0 0 0 0 0 0 0 0 0 0 0 0 0 0 0 0 0 0 0 0 0 0 0 0 0 0 0 0 0 0 0 0 0 0 0 0 0 0 0 0 0 0 0 0 0 0 0 0 0 0 0 0 0 0 0 0 0 0 0 0 0 0 0 0 0 0 0 0 0 0 0 0 0 0 0 0 0 0 0 0 0 0 0 0 0 0 0 0 0 0 0 0 0 0 0 0 0 0 0 0 0 0 0 0 0 0 0 0 0 0 0 0 0 0 0 4 \r\n  NoData Value=nan\r\n  Metadata:\r\n    STATISTICS_MAXIMUM=21\r\n    STATISTICS_MEAN=0.5720977259583\r\n    STATISTICS_MINIMUM=0.21926909685135\r\n    STATISTICS_STDDEV=0.31687298586611\r\n    STATISTICS_VALID_PERCENT=100\r\n"
     ],
     "output_type": "stream"
    }
   ],
   "source": [
    "!gdalinfo -hist $output_file\n"
   ]
  },
  {
   "cell_type": "markdown",
   "source": [
    "Or we can use rasterio to plot the histogram and the image:\n"
   ],
   "metadata": {
    "collapsed": false
   }
  },
  {
   "cell_type": "code",
   "execution_count": 13,
   "outputs": [
    {
     "name": "stderr",
     "text": [
      "/home/driesj/.local/lib/python3.8/site-packages/rasterio/plot.py:250: RuntimeWarning: invalid value encountered in greater\n  arr = source.read(masked=masked)\n/home/driesj/.local/lib/python3.8/site-packages/rasterio/plot.py:250: RuntimeWarning: invalid value encountered in less\n  arr = source.read(masked=masked)\n/home/driesj/.local/lib/python3.8/site-packages/rasterio/plot.py:93: RuntimeWarning: invalid value encountered in greater\n  arr = source.read(1, masked=True)\n/home/driesj/.local/lib/python3.8/site-packages/rasterio/plot.py:93: RuntimeWarning: invalid value encountered in less\n  arr = source.read(1, masked=True)\n"
     ],
     "output_type": "stream"
    },
    {
     "data": {
      "text/plain": "<matplotlib.axes._subplots.AxesSubplot at 0x7f3f9c6433a0>"
     },
     "metadata": {},
     "output_type": "execute_result",
     "execution_count": 13
    },
    {
     "data": {
      "text/plain": "<Figure size 648x288 with 2 Axes>",
      "image/png": "[encoded data removed]"
     },
     "metadata": {
      "needs_background": "light"
     },
     "output_type": "display_data"
    }
   ],
   "source": [
    "\n",
    "import matplotlib.pyplot as plt\n",
    "import rasterio\n",
    "from rasterio.plot import show,show_hist\n",
    "?show_hist\n",
    "ds = rasterio.open(output_file)\n",
    "fig,(axr,axl) = plt.subplots(1,2, figsize=(9, 4))\n",
    "axr.set_xlim(0,1)\n",
    "show_hist(ds,bins=255,ax=axr)\n",
    "\n",
    "show(ds,ax=axl,cmap=plt.cm.RdYlGn,title='NDVI',vmin=0,vmax=1)\n",
    "\n"
   ],
   "metadata": {
    "collapsed": false,
    "pycharm": {
     "name": "#%%\n",
     "is_executing": false
    }
   }
  },
  {
   "cell_type": "markdown",
   "metadata": {},
   "source": [
    "## Retrieving a timeseries for a region\n",
    "\n",
    "Instead of reducing our timeseries of images into a composite, we can also request the average value for a given geographical region. \n",
    "\n",
    "This call can be executed directly on the timeseries that we defined earlier, we start with creating a geographical area of interest:"
   ]
  },
  {
   "cell_type": "code",
   "execution_count": 14,
   "outputs": [
    {
     "data": {
      "text/plain": "<shapely.geometry.polygon.Polygon at 0x7f3f9c2f9250>",
      "image/svg+xml": "<svg xmlns=\"http://www.w3.org/2000/svg\" xmlns:xlink=\"http://www.w3.org/1999/xlink\" width=\"100.0\" height=\"100.0\" viewBox=\"6.846375999999999 50.563016000000005 0.00010800000000088517 0.00010799999999733245\" preserveAspectRatio=\"xMinYMin meet\"><g transform=\"matrix(1,0,0,-1,0,101.12614)\"><path fill-rule=\"evenodd\" fill=\"#66cc99\" stroke=\"#555555\" stroke-width=\"2.1600000000177035e-06\" opacity=\"0.6\" d=\"M 6.84648,50.56302 L 6.84648,50.563120000000005 L 6.84638,50.563120000000005 L 6.84638,50.56302 L 6.84648,50.56302 z\" /></g></svg>"
     },
     "metadata": {},
     "output_type": "execute_result",
     "execution_count": 14
    }
   ],
   "source": [
    "from shapely.geometry import box\n",
    "x,y=(6.84638, 50.56302)\n",
    "point_area = box(x, y,x+0.0001,y+0.0001)\n",
    "point_area\n"
   ],
   "metadata": {
    "collapsed": false,
    "pycharm": {
     "name": "#%%\n",
     "is_executing": false
    }
   }
  },
  {
   "cell_type": "code",
   "execution_count": 15,
   "metadata": {
    "pycharm": {
     "is_executing": false
    }
   },
   "outputs": [
    {
     "name": "stdout",
     "text": [
      "{'2017-10-15T00:00:00': [[0.5879669189453125]], '2017-10-17T00:00:00': [[0.27857881784439087]], '2017-10-20T00:00:00': [[0.22728434205055237]], '2017-10-25T00:00:00': [[0.2723689675331116]], '2017-10-27T00:00:00': [[None]], '2017-10-30T00:00:00': [[None]]}\nCPU times: user 15.7 ms, sys: 512 µs, total: 16.2 ms\nWall time: 6.68 s\n"
     ],
     "output_type": "stream"
    }
   ],
   "source": [
    "%%time\n",
    "point_timeseries = ndvi_timeseries.polygonal_mean_timeseries(point_area).execute()\n",
    "print(point_timeseries)\n"
   ]
  },
  {
   "cell_type": "code",
   "execution_count": 16,
   "outputs": [],
   "source": [
    "import pandas as pd\n",
    "from openeo.rest.conversions import timeseries_json_to_pandas\n",
    "df = timeseries_json_to_pandas(point_timeseries)\n",
    "df.index = pd.to_datetime(df.index)\n"
   ],
   "metadata": {
    "collapsed": false,
    "pycharm": {
     "name": "#%%\n",
     "is_executing": false
    }
   }
  },
  {
   "cell_type": "code",
   "execution_count": 17,
   "metadata": {
    "pycharm": {
     "is_executing": false,
     "name": "#%%\n"
    }
   },
   "outputs": [
    {
     "data": {
      "text/plain": "<matplotlib.axes._subplots.AxesSubplot at 0x7f3f948b5b20>"
     },
     "metadata": {},
     "output_type": "execute_result",
     "execution_count": 17
    },
    {
     "data": {
      "text/plain": "<Figure size 432x288 with 1 Axes>",
      "image/png": "[encoded data removed]"
     },
     "metadata": {
      "needs_background": "light"
     },
     "output_type": "display_data"
    }
   ],
   "source": [
    "%matplotlib inline\n",
    "df.dropna().plot(marker='.', title='NDVI')\n",
    "\n"
   ]
  }
 ],
 "metadata": {
  "kernelspec": {
   "display_name": "Python 3",
   "language": "python",
   "name": "python3"
  },
  "language_info": {
   "codemirror_mode": {
    "name": "ipython",
    "version": 3
   },
   "file_extension": ".py",
   "mimetype": "text/x-python",
   "name": "python",
   "nbconvert_exporter": "python",
   "pygments_lexer": "ipython3",
   "version": "3.6.4"
  },
  "pycharm": {
   "stem_cell": {
    "cell_type": "raw",
    "source": [],
    "metadata": {
     "collapsed": false
    }
   }
  }
 },
 "nbformat": 4,
 "nbformat_minor": 2
}