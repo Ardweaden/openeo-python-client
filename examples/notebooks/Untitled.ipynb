{
 "cells": [
  {
   "cell_type": "code",
   "execution_count": 1,
   "id": "b387bc52",
   "metadata": {},
   "outputs": [],
   "source": [
    "import openeo"
   ]
  },
  {
   "cell_type": "code",
   "execution_count": 2,
   "id": "ac8937be",
   "metadata": {},
   "outputs": [
    {
     "name": "stdout",
     "output_type": "stream",
     "text": [
      "Authenticated using refresh token.\n"
     ]
    },
    {
     "data": {
      "text/plain": [
       "<Connection to 'https://jjdxlu8vwl.execute-api.eu-central-1.amazonaws.com/production/' with OidcBearerAuth>"
      ]
     },
     "execution_count": 2,
     "metadata": {},
     "output_type": "execute_result"
    }
   ],
   "source": [
    "con = openeo.connect(\"https://openeo.sentinel-hub.com/production/\")\n",
    "con.authenticate_oidc()"
   ]
  },
  {
   "cell_type": "code",
   "execution_count": 3,
   "id": "e0c8eeb8",
   "metadata": {},
   "outputs": [],
   "source": [
    "datacube = con.load_collection(collection_id=\"SENTINEL2_L2A_SENTINELHUB\", bands=['B03','B04','B05'], spatial_extent={\n",
    "        \"west\": 6.8371137, \"south\": 50.560007,\n",
    "        \"east\": 6.8566699, \"north\": 50.5647147,\n",
    "        \"crs\": 4326\n",
    "    }, temporal_extent=[\"2022-10-08\",\"2022-10-11\"]).linear_scale_range(0,1,0,255)\n",
    "datacube = datacube.save_result(\"jpeg\")"
   ]
  },
  {
   "cell_type": "code",
   "execution_count": 4,
   "id": "771d44ea",
   "metadata": {},
   "outputs": [
    {
     "data": {
      "text/plain": [
       "{'loadcollection1': {'process_id': 'load_collection',\n",
       "  'arguments': {'bands': ['B03', 'B04', 'B05'],\n",
       "   'id': 'SENTINEL2_L2A_SENTINELHUB',\n",
       "   'spatial_extent': {'west': 6.8371137,\n",
       "    'south': 50.560007,\n",
       "    'east': 6.8566699,\n",
       "    'north': 50.5647147,\n",
       "    'crs': 4326},\n",
       "   'temporal_extent': ['2022-10-08', '2022-10-11']}},\n",
       " 'apply1': {'process_id': 'apply',\n",
       "  'arguments': {'data': {'from_node': 'loadcollection1'},\n",
       "   'process': {'process_graph': {'linearscalerange1': {'process_id': 'linear_scale_range',\n",
       "      'arguments': {'inputMax': 1,\n",
       "       'inputMin': 0,\n",
       "       'outputMax': 255,\n",
       "       'outputMin': 0,\n",
       "       'x': {'from_parameter': 'x'}},\n",
       "      'result': True}}}}},\n",
       " 'saveresult1': {'process_id': 'save_result',\n",
       "  'arguments': {'data': {'from_node': 'apply1'},\n",
       "   'format': 'jpeg',\n",
       "   'options': {}},\n",
       "  'result': True}}"
      ]
     },
     "execution_count": 4,
     "metadata": {},
     "output_type": "execute_result"
    }
   ],
   "source": [
    "datacube.flat_graph()"
   ]
  },
  {
   "cell_type": "code",
   "execution_count": 5,
   "id": "5f21ad1a",
   "metadata": {},
   "outputs": [
    {
     "name": "stdout",
     "output_type": "stream",
     "text": [
      "{'attributes': {}, 'budget': None, 'configuration': {}, 'costs': 0, 'created': '2022-10-26T14:36:00Z', 'description': None, 'enabled': True, 'id': 'd81a47e9-404f-4a50-bd37-75cdefe3b678', 'process': {'process_graph': {'apply1': {'arguments': {'data': {'from_node': 'loadcollection1'}, 'process': {'process_graph': {'linearscalerange1': {'arguments': {'inputMax': 1, 'inputMin': 0, 'outputMax': 255, 'outputMin': 0, 'x': {'from_parameter': 'x'}}, 'process_id': 'linear_scale_range', 'result': True}}}}, 'process_id': 'apply'}, 'loadcollection1': {'arguments': {'bands': ['B03', 'B04', 'B05'], 'id': 'SENTINEL2_L2A_SENTINELHUB', 'spatial_extent': {'crs': 4326, 'east': {'from_parameter': 'spatial_extent_east'}, 'north': {'from_parameter': 'spatial_extent_north'}, 'south': {'from_parameter': 'spatial_extent_south'}, 'west': {'from_parameter': 'spatial_extent_west'}}, 'temporal_extent': ['2022-10-08', '2022-10-11']}, 'process_id': 'load_collection'}, 'saveresult1': {'arguments': {'data': {'from_node': 'apply1'}, 'format': 'jpeg', 'options': {}}, 'process_id': 'save_result', 'result': True}}}, 'title': None, 'type': 'XYZ', 'url': 'https://jjdxlu8vwl.execute-api.eu-central-1.amazonaws.com/production/service/xyz/d81a47e9-404f-4a50-bd37-75cdefe3b678/{z}/{x}/{y}'}\n",
      "\n"
     ]
    },
    {
     "data": {
      "application/vnd.jupyter.widget-view+json": {
       "model_id": "ea937ab3677541449fb52c95bff3c0b3",
       "version_major": 2,
       "version_minor": 0
      },
      "text/plain": [
       "Map(center=[0, 0], controls=(ZoomControl(options=['position', 'zoom_in_text', 'zoom_in_title', 'zoom_out_text'…"
      ]
     },
     "execution_count": 5,
     "metadata": {},
     "output_type": "execute_result"
    }
   ],
   "source": [
    "datacube.preview()"
   ]
  },
  {
   "cell_type": "code",
   "execution_count": null,
   "id": "6f5c34a7",
   "metadata": {},
   "outputs": [],
   "source": []
  }
 ],
 "metadata": {
  "kernelspec": {
   "display_name": "Python 3 (ipykernel)",
   "language": "python",
   "name": "python3"
  },
  "language_info": {
   "codemirror_mode": {
    "name": "ipython",
    "version": 3
   },
   "file_extension": ".py",
   "mimetype": "text/x-python",
   "name": "python",
   "nbconvert_exporter": "python",
   "pygments_lexer": "ipython3",
   "version": "3.9.5"
  }
 },
 "nbformat": 4,
 "nbformat_minor": 5
}
