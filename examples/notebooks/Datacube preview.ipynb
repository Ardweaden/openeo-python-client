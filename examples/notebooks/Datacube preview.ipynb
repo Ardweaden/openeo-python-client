{
 "cells": [
  {
   "cell_type": "code",
   "execution_count": 1,
   "id": "b387bc52",
   "metadata": {},
   "outputs": [
    {
     "name": "stderr",
     "output_type": "stream",
     "text": [
      "Enabling notebook extension jupyter-leaflet/extension...\n",
      "      - Validating: ok\n"
     ]
    }
   ],
   "source": [
    "!python -m jupyter nbextension enable --py --sys-prefix ipyleaflet"
   ]
  },
  {
   "cell_type": "code",
   "execution_count": 2,
   "id": "7be7a9d0",
   "metadata": {},
   "outputs": [],
   "source": [
    "import openeo"
   ]
  },
  {
   "cell_type": "code",
   "execution_count": 3,
   "id": "ac8937be",
   "metadata": {},
   "outputs": [
    {
     "name": "stdout",
     "output_type": "stream",
     "text": [
      "Authenticated using refresh token.\n"
     ]
    },
    {
     "data": {
      "text/plain": [
       "<Connection to 'https://jjdxlu8vwl.execute-api.eu-central-1.amazonaws.com/production/' with OidcBearerAuth>"
      ]
     },
     "execution_count": 3,
     "metadata": {},
     "output_type": "execute_result"
    }
   ],
   "source": [
    "con = openeo.connect(\"https://openeo.sentinel-hub.com/production/\")\n",
    "con.authenticate_oidc()"
   ]
  },
  {
   "cell_type": "code",
   "execution_count": 4,
   "id": "e0c8eeb8",
   "metadata": {},
   "outputs": [],
   "source": [
    "datacube = con.load_collection(collection_id=\"SENTINEL2_L2A_SENTINELHUB\", bands=['B03','B04','B05'], spatial_extent={\n",
    "        \"west\": 6.8371137, \"south\": 50.560007,\n",
    "        \"east\": 6.8566699, \"north\": 50.5647147,\n",
    "        \"crs\": 4326\n",
    "    }, temporal_extent=[\"2022-10-08\",\"2022-10-11\"]).linear_scale_range(0,1,0,255)\n",
    "datacube = datacube.save_result(\"jpeg\")"
   ]
  },
  {
   "cell_type": "code",
   "execution_count": 5,
   "id": "5f21ad1a",
   "metadata": {},
   "outputs": [
    {
     "data": {
      "application/vnd.jupyter.widget-view+json": {
       "model_id": "eea943e2a98b4405b81aa4872022d578",
       "version_major": 2,
       "version_minor": 0
      },
      "text/plain": [
       "Map(center=[0, 0], controls=(ZoomControl(options=['position', 'zoom_in_text', 'zoom_in_title', 'zoom_out_text'…"
      ]
     },
     "metadata": {},
     "output_type": "display_data"
    }
   ],
   "source": [
    "m, service = datacube.preview()"
   ]
  },
  {
   "cell_type": "code",
   "execution_count": 6,
   "id": "6f5c34a7",
   "metadata": {},
   "outputs": [
    {
     "ename": "NameError",
     "evalue": "name 'service' is not defined",
     "output_type": "error",
     "traceback": [
      "\u001b[1;31m---------------------------------------------------------------------------\u001b[0m",
      "\u001b[1;31mNameError\u001b[0m                                 Traceback (most recent call last)",
      "Cell \u001b[1;32mIn [6], line 1\u001b[0m\n\u001b[1;32m----> 1\u001b[0m \u001b[43mservice\u001b[49m\u001b[38;5;241m.\u001b[39mdelete_service()\n",
      "\u001b[1;31mNameError\u001b[0m: name 'service' is not defined"
     ]
    }
   ],
   "source": [
    "service.delete_service()"
   ]
  },
  {
   "cell_type": "code",
   "execution_count": null,
   "id": "b5e7b058",
   "metadata": {},
   "outputs": [],
   "source": []
  }
 ],
 "metadata": {
  "kernelspec": {
   "display_name": "Python 3 (ipykernel)",
   "language": "python",
   "name": "python3"
  },
  "language_info": {
   "codemirror_mode": {
    "name": "ipython",
    "version": 3
   },
   "file_extension": ".py",
   "mimetype": "text/x-python",
   "name": "python",
   "nbconvert_exporter": "python",
   "pygments_lexer": "ipython3",
   "version": "3.9.5"
  }
 },
 "nbformat": 4,
 "nbformat_minor": 5
}
