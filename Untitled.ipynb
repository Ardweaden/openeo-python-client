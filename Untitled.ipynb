{
 "cells": [
  {
   "cell_type": "code",
   "execution_count": 1,
   "id": "b387bc52",
   "metadata": {},
   "outputs": [
    {
     "name": "stdout",
     "output_type": "stream",
     "text": [
      "3.9.13\n"
     ]
    }
   ],
   "source": [
    "from platform import python_version\n",
    "\n",
    "print(python_version())\n",
    "\n",
    "import openeo"
   ]
  },
  {
   "cell_type": "code",
   "execution_count": 2,
   "id": "ac8937be",
   "metadata": {},
   "outputs": [
    {
     "name": "stdout",
     "output_type": "stream",
     "text": [
      "Authenticated using refresh token.\n"
     ]
    },
    {
     "data": {
      "text/plain": [
       "<Connection to 'https://jjdxlu8vwl.execute-api.eu-central-1.amazonaws.com/production/' with OidcBearerAuth>"
      ]
     },
     "execution_count": 2,
     "metadata": {},
     "output_type": "execute_result"
    }
   ],
   "source": [
    "con = openeo.connect(\"https://openeo.sentinel-hub.com/production/\")\n",
    "con.authenticate_oidc()"
   ]
  },
  {
   "cell_type": "code",
   "execution_count": 3,
   "id": "e0c8eeb8",
   "metadata": {},
   "outputs": [],
   "source": [
    "datacube = con.load_collection(collection_id=\"SENTINEL2_L2A_SENTINELHUB\", bands=['B03','B04','B05'], spatial_extent={\n",
    "        \"west\": 6.8371137, \"south\": 50.560007,\n",
    "        \"east\": 6.8566699, \"north\": 50.5647147,\n",
    "        \"crs\": \"EPSG:4326\"\n",
    "    }, temporal_extent=[\"2021-10-15\",\"2021-10-25\"])\n",
    "datacube = datacube.save_result(\"jpeg\")"
   ]
  },
  {
   "cell_type": "code",
   "execution_count": 4,
   "id": "771d44ea",
   "metadata": {},
   "outputs": [
    {
     "data": {
      "text/plain": [
       "{'loadcollection1': {'process_id': 'load_collection',\n",
       "  'arguments': {'bands': ['B03', 'B04', 'B05'],\n",
       "   'id': 'SENTINEL2_L2A_SENTINELHUB',\n",
       "   'spatial_extent': {'west': 6.8371137,\n",
       "    'south': 50.560007,\n",
       "    'east': 6.8566699,\n",
       "    'north': 50.5647147,\n",
       "    'crs': 'EPSG:4326'},\n",
       "   'temporal_extent': ['2021-10-15', '2021-10-25']}},\n",
       " 'saveresult1': {'process_id': 'save_result',\n",
       "  'arguments': {'data': {'from_node': 'loadcollection1'},\n",
       "   'format': 'jpeg',\n",
       "   'options': {}},\n",
       "  'result': True}}"
      ]
     },
     "execution_count": 4,
     "metadata": {},
     "output_type": "execute_result"
    }
   ],
   "source": [
    "datacube.flat_graph()"
   ]
  },
  {
   "cell_type": "code",
   "execution_count": 5,
   "id": "5f21ad1a",
   "metadata": {},
   "outputs": [
    {
     "name": "stdout",
     "output_type": "stream",
     "text": [
      "{'loadcollection1': {'process_id': 'load_collection', 'arguments': {'bands': ['B03', 'B04', 'B05'], 'id': 'SENTINEL2_L2A_SENTINELHUB', 'spatial_extent': {'west': 6.8371137, 'south': 50.560007, 'east': 6.8566699, 'north': 50.5647147, 'crs': 'EPSG:4326'}, 'temporal_extent': ['2021-10-15', '2021-10-25']}}, 'saveresult1': {'process_id': 'save_result', 'arguments': {'data': {'from_node': 'loadcollection1'}, 'format': 'jpeg', 'options': {}}, 'result': True}}\n"
     ]
    },
    {
     "data": {
      "application/vnd.jupyter.widget-view+json": {
       "model_id": "b240615798e843f48dcbaa29a7186561",
       "version_major": 2,
       "version_minor": 0
      },
      "text/plain": [
       "Map(center=[0.0, 0.0], controls=(ZoomControl(options=['position', 'zoom_in_text', 'zoom_in_title', 'zoom_out_t…"
      ]
     },
     "metadata": {},
     "output_type": "display_data"
    }
   ],
   "source": [
    "datacube.preview()"
   ]
  },
  {
   "cell_type": "code",
   "execution_count": null,
   "id": "6f5c34a7",
   "metadata": {},
   "outputs": [],
   "source": []
  }
 ],
 "metadata": {
  "kernelspec": {
   "display_name": "Python 3 (ipykernel)",
   "language": "python",
   "name": "python3"
  },
  "language_info": {
   "codemirror_mode": {
    "name": "ipython",
    "version": 3
   },
   "file_extension": ".py",
   "mimetype": "text/x-python",
   "name": "python",
   "nbconvert_exporter": "python",
   "pygments_lexer": "ipython3",
   "version": "3.9.13"
  }
 },
 "nbformat": 4,
 "nbformat_minor": 5
}
