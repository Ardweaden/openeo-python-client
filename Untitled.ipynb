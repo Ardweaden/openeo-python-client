{
 "cells": [
  {
   "cell_type": "code",
   "execution_count": 1,
   "id": "b387bc52",
   "metadata": {},
   "outputs": [],
   "source": [
    "import openeo"
   ]
  },
  {
   "cell_type": "code",
   "execution_count": 2,
   "id": "ac8937be",
   "metadata": {},
   "outputs": [
    {
     "name": "stdout",
     "output_type": "stream",
     "text": [
      "Authenticated using refresh token.\n"
     ]
    },
    {
     "data": {
      "text/plain": [
       "<Connection to 'https://jjdxlu8vwl.execute-api.eu-central-1.amazonaws.com/production/' with OidcBearerAuth>"
      ]
     },
     "execution_count": 2,
     "metadata": {},
     "output_type": "execute_result"
    }
   ],
   "source": [
    "con = openeo.connect(\"https://openeo.sentinel-hub.com/production/\")\n",
    "con.authenticate_oidc()"
   ]
  },
  {
   "cell_type": "code",
   "execution_count": 3,
   "id": "e0c8eeb8",
   "metadata": {},
   "outputs": [],
   "source": [
    "datacube = con.load_collection(collection_id=\"SENTINEL2_L2A_SENTINELHUB\", bands=['B03','B04','B05'], spatial_extent={\n",
    "        \"west\": 6.8371137, \"south\": 50.560007,\n",
    "        \"east\": 6.8566699, \"north\": 50.5647147,\n",
    "        \"crs\": \"4326\"\n",
    "    }, temporal_extent=[\"2021-10-15\",\"2021-10-20\"])\n",
    "\n",
    "datacube_scaled = datacube.linear_scale_range(0,1,0,255)\n",
    "\n",
    "datacube = datacube_scaled.save_result(\"jpeg\")"
   ]
  },
  {
   "cell_type": "code",
   "execution_count": 4,
   "id": "771d44ea",
   "metadata": {},
   "outputs": [
    {
     "name": "stdout",
     "output_type": "stream",
     "text": [
      "{\n",
      "  \"process_graph\": {\n",
      "    \"loadcollection1\": {\n",
      "      \"process_id\": \"load_collection\",\n",
      "      \"arguments\": {\n",
      "        \"bands\": [\n",
      "          \"B03\",\n",
      "          \"B04\",\n",
      "          \"B05\"\n",
      "        ],\n",
      "        \"id\": \"SENTINEL2_L2A_SENTINELHUB\",\n",
      "        \"spatial_extent\": {\n",
      "          \"west\": 6.8371137,\n",
      "          \"south\": 50.560007,\n",
      "          \"east\": 6.8566699,\n",
      "          \"north\": 50.5647147,\n",
      "          \"crs\": \"4326\"\n",
      "        },\n",
      "        \"temporal_extent\": [\n",
      "          \"2021-10-15\",\n",
      "          \"2021-10-20\"\n",
      "        ]\n",
      "      }\n",
      "    },\n",
      "    \"apply1\": {\n",
      "      \"process_id\": \"apply\",\n",
      "      \"arguments\": {\n",
      "        \"data\": {\n",
      "          \"from_node\": \"loadcollection1\"\n",
      "        },\n",
      "        \"process\": {\n",
      "          \"process_graph\": {\n",
      "            \"linearscalerange1\": {\n",
      "              \"process_id\": \"linear_scale_range\",\n",
      "              \"arguments\": {\n",
      "                \"inputMax\": 1,\n",
      "                \"inputMin\": 0,\n",
      "                \"outputMax\": 255,\n",
      "                \"outputMin\": 0,\n",
      "                \"x\": {\n",
      "                  \"from_parameter\": \"x\"\n",
      "                }\n",
      "              },\n",
      "              \"result\": true\n",
      "            }\n",
      "          }\n",
      "        }\n",
      "      }\n",
      "    },\n",
      "    \"saveresult1\": {\n",
      "      \"process_id\": \"save_result\",\n",
      "      \"arguments\": {\n",
      "        \"data\": {\n",
      "          \"from_node\": \"apply1\"\n",
      "        },\n",
      "        \"format\": \"jpeg\",\n",
      "        \"options\": {}\n",
      "      },\n",
      "      \"result\": true\n",
      "    }\n",
      "  }\n",
      "}\n"
     ]
    }
   ],
   "source": [
    "datacube.print_json()"
   ]
  },
  {
   "cell_type": "code",
   "execution_count": 5,
   "id": "5f21ad1a",
   "metadata": {},
   "outputs": [
    {
     "name": "stdout",
     "output_type": "stream",
     "text": [
      "loadcollection1\n"
     ]
    },
    {
     "ename": "TypeError",
     "evalue": "string indices must be integers",
     "output_type": "error",
     "traceback": [
      "\u001b[1;31m---------------------------------------------------------------------------\u001b[0m",
      "\u001b[1;31mTypeError\u001b[0m                                 Traceback (most recent call last)",
      "Cell \u001b[1;32mIn [5], line 1\u001b[0m\n\u001b[1;32m----> 1\u001b[0m \u001b[43mdatacube\u001b[49m\u001b[38;5;241;43m.\u001b[39;49m\u001b[43mpreview\u001b[49m\u001b[43m(\u001b[49m\u001b[43m)\u001b[49m\n",
      "File \u001b[1;32m~\\Documents\\Frontend\\openeo-python-client\\openeo\\rest\\datacube.py:1868\u001b[0m, in \u001b[0;36mDataCube.preview\u001b[1;34m(self, center, zoom, service_type)\u001b[0m\n\u001b[0;32m   1866\u001b[0m \u001b[38;5;28mprint\u001b[39m(node)\n\u001b[0;32m   1867\u001b[0m \u001b[38;5;28;01mif\u001b[39;00m pg[node][\u001b[38;5;124m\"\u001b[39m\u001b[38;5;124mprocess_id\u001b[39m\u001b[38;5;124m\"\u001b[39m] \u001b[38;5;241m==\u001b[39m \u001b[38;5;124m\"\u001b[39m\u001b[38;5;124mload_collection\u001b[39m\u001b[38;5;124m\"\u001b[39m:\n\u001b[1;32m-> 1868\u001b[0m     \u001b[38;5;28;01mif\u001b[39;00m \u001b[38;5;124m\"\u001b[39m\u001b[38;5;124mspatial_extent\u001b[39m\u001b[38;5;124m\"\u001b[39m \u001b[38;5;129;01min\u001b[39;00m pg[node][\u001b[38;5;124m\"\u001b[39m\u001b[38;5;124marguments\u001b[39m\u001b[38;5;124m\"\u001b[39m] \u001b[38;5;129;01mand\u001b[39;00m \u001b[38;5;28mall\u001b[39m(cd \u001b[38;5;28;01mfor\u001b[39;00m cd \u001b[38;5;129;01min\u001b[39;00m \u001b[43mnode\u001b[49m\u001b[43m[\u001b[49m\u001b[38;5;124;43m\"\u001b[39;49m\u001b[38;5;124;43marguments\u001b[39;49m\u001b[38;5;124;43m\"\u001b[39;49m\u001b[43m]\u001b[49m[\u001b[38;5;124m\"\u001b[39m\u001b[38;5;124mspatial_extent\u001b[39m\u001b[38;5;124m\"\u001b[39m] \u001b[38;5;28;01mfor\u001b[39;00m cd \u001b[38;5;129;01min\u001b[39;00m [\u001b[38;5;124m\"\u001b[39m\u001b[38;5;124meast\u001b[39m\u001b[38;5;124m\"\u001b[39m,\u001b[38;5;124m\"\u001b[39m\u001b[38;5;124mwest\u001b[39m\u001b[38;5;124m\"\u001b[39m,\u001b[38;5;124m\"\u001b[39m\u001b[38;5;124msouth\u001b[39m\u001b[38;5;124m\"\u001b[39m,\u001b[38;5;124m\"\u001b[39m\u001b[38;5;124mnorth\u001b[39m\u001b[38;5;124m\"\u001b[39m]):\n\u001b[0;32m   1869\u001b[0m         spatial_extent \u001b[38;5;241m=\u001b[39m pg[node][\u001b[38;5;124m\"\u001b[39m\u001b[38;5;124marguments\u001b[39m\u001b[38;5;124m\"\u001b[39m][\u001b[38;5;124m\"\u001b[39m\u001b[38;5;124mspatial_extent\u001b[39m\u001b[38;5;124m\"\u001b[39m]\n\u001b[0;32m   1870\u001b[0m         \u001b[38;5;28mprint\u001b[39m(spatial_extent)\n",
      "\u001b[1;31mTypeError\u001b[0m: string indices must be integers"
     ]
    }
   ],
   "source": [
    "datacube.preview()"
   ]
  },
  {
   "cell_type": "code",
   "execution_count": null,
   "id": "6f5c34a7",
   "metadata": {},
   "outputs": [],
   "source": []
  }
 ],
 "metadata": {
  "kernelspec": {
   "display_name": "Python 3 (ipykernel)",
   "language": "python",
   "name": "python3"
  },
  "language_info": {
   "codemirror_mode": {
    "name": "ipython",
    "version": 3
   },
   "file_extension": ".py",
   "mimetype": "text/x-python",
   "name": "python",
   "nbconvert_exporter": "python",
   "pygments_lexer": "ipython3",
   "version": "3.9.5"
  }
 },
 "nbformat": 4,
 "nbformat_minor": 5
}
